{
  "nbformat": 4,
  "nbformat_minor": 0,
  "metadata": {
    "colab": {
      "provenance": []
    },
    "kernelspec": {
      "name": "python3",
      "display_name": "Python 3"
    },
    "language_info": {
      "name": "python"
    }
  },
  "cells": [
    {
      "cell_type": "markdown",
      "source": [
        "# Proyecto procesamiento de imagenes"
      ],
      "metadata": {
        "id": "Y9HpLreuUIjn"
      }
    },
    {
      "cell_type": "code",
      "source": [
        "import cv2\n",
        "#!apt-get install -y libzbar0\n",
        "#!pip install pyzbar opencv-python\n",
        "from pyzbar.pyzbar import decode\n",
        "import matplotlib.pyplot as plt\n",
        "from google.colab.patches import cv2_imshow"
      ],
      "metadata": {
        "id": "fzf_v5Y-UPSm"
      },
      "execution_count": null,
      "outputs": []
    },
    {
      "cell_type": "code",
      "source": [
        "class Pipeline:\n",
        "    def __init__(self, steps):\n",
        "        self.steps = steps\n",
        "\n",
        "    def run(self, data):\n",
        "        for step in self.steps:\n",
        "            data = step(data)\n",
        "        return data\n",
        "\n",
        "def grayscale(image):\n",
        "    return cv2.cvtColor(image, cv2.COLOR_BGR2GRAY)\n",
        "\n",
        "def threshold(threshold_value=128):\n",
        "    def inner(image, threshold_value=threshold_value):\n",
        "        _, thresholded_image = cv2.threshold(image, threshold_value, 255, cv2.THRESH_BINARY)\n",
        "        return thresholded_image\n",
        "    return inner"
      ],
      "metadata": {
        "id": "BZL8aIOrQW95"
      },
      "execution_count": null,
      "outputs": []
    },
    {
      "cell_type": "code",
      "source": [
        "# Decode QR codes\n",
        "def decode_qr(qr_image):\n",
        "  decoded_objects = decode(qr_image)\n",
        "  if not decoded_objects:\n",
        "      return False, \"\"\n",
        "  return True, decoded_objects[0].data.decode(\"utf-8\")\n",
        "\n",
        "\n",
        "def get_txt_content(file_name):\n",
        "  print(file_name)\n",
        "  with open(file_name, 'r') as file:\n",
        "    content = file.read()\n",
        "  return content"
      ],
      "metadata": {
        "id": "KtEpjoYpQUyV"
      },
      "execution_count": null,
      "outputs": []
    },
    {
      "cell_type": "code",
      "source": [
        "def checkQr(file_name):\n",
        "  img_path = \"png/\" + file_name + \".png\"\n",
        "  img = cv2.imread(img_path)\n",
        "  if img is None:\n",
        "    print(\"Image png/\" + file_name + \".png not found\")\n",
        "    return False\n",
        "\n",
        "  print(file_name)\n",
        "  content = \"\"\n",
        "  # content = get_txt_content(\"txt/\" + file_name + \".txt\")\n",
        "\n",
        "  ok, decoded = decode_qr(img)\n",
        "  if ok:\n",
        "    return decoded == content\n",
        "  return False\n",
        "\n"
      ],
      "metadata": {
        "id": "uE2tGrWkdpaN"
      },
      "execution_count": null,
      "outputs": []
    },
    {
      "cell_type": "code",
      "source": [
        "# Get file names in /png\n",
        "import os\n",
        "files = os.listdir(\"png\")\n",
        "files = [file.split(\".\")[0] for file in files]\n",
        "\n",
        "for file in files:\n",
        "  file_name = file.replace(\".png\", \"\")\n",
        "  print(file_name, checkQr(file_name))\n",
        "\n",
        "\n",
        "\n",
        "# pipeline = Pipeline([\n",
        "#     threshold(128),\n",
        "#     grayscale\n",
        "# ])\n",
        "# image = pipeline.run(image)\n",
        "\n",
        "\n",
        "## Show image\n",
        "# cv2_imshow(image)\n",
        "\n"
      ],
      "metadata": {
        "id": "qQqbjxY7R5yv",
        "colab": {
          "base_uri": "https://localhost:8080/"
        },
        "outputId": "8d7280d9-5ecd-4d4c-e66b-d8ac2e9703da"
      },
      "execution_count": null,
      "outputs": [
        {
          "output_type": "stream",
          "name": "stdout",
          "text": [
            "png/.png\n",
            "Image png/.png not found\n",
            " False\n",
            "png/000004.png\n",
            "000004\n",
            "000004 False\n",
            "png/000002.png\n",
            "000002\n",
            "000002 False\n",
            "png/000000.png\n",
            "000000\n",
            "000000 False\n",
            "png/000001.png\n",
            "000001\n",
            "000001 False\n",
            "png/000003.png\n",
            "000003\n",
            "000003 False\n",
            "png/000005.png\n",
            "000005\n",
            "000005 False\n"
          ]
        }
      ]
    }
  ]
}