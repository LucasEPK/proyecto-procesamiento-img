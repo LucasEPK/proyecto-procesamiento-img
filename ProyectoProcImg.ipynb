{
 "cells": [
  {
   "cell_type": "markdown",
   "metadata": {
    "id": "Y9HpLreuUIjn"
   },
   "source": [
    "# Proyecto procesamiento de imagenes"
   ]
  },
  {
   "cell_type": "code",
   "execution_count": null,
   "metadata": {
    "id": "fzf_v5Y-UPSm"
   },
   "outputs": [],
   "source": [
    "import cv2\n",
    "#!apt-get install -y libzbar0\n",
    "#!pip install pyzbar opencv-python\n",
    "from pyzbar.pyzbar import decode\n",
    "import matplotlib.pyplot as plt\n",
    "from google.colab.patches import cv2_imshow"
   ]
  },
  {
   "cell_type": "code",
   "execution_count": null,
   "metadata": {
    "id": "BZL8aIOrQW95"
   },
   "outputs": [],
   "source": [
    "class Pipeline:\n",
    "    def __init__(self, steps):\n",
    "        self.steps = steps\n",
    "\n",
    "    def run(self, data):\n",
    "        for step in self.steps:\n",
    "            data = step(data)\n",
    "        return data\n",
    "\n",
    "def grayscale(image):\n",
    "    return cv2.cvtColor(image, cv2.COLOR_BGR2GRAY)\n",
    "\n",
    "def threshold(threshold_value=128):\n",
    "    def inner(image, threshold_value=threshold_value):\n",
    "        _, thresholded_image = cv2.threshold(image, threshold_value, 255, cv2.THRESH_BINARY)\n",
    "        return thresholded_image\n",
    "    return inner"
   ]
  },
  {
   "cell_type": "code",
   "execution_count": null,
   "metadata": {
    "id": "KtEpjoYpQUyV"
   },
   "outputs": [],
   "source": [
    "# Decode QR codes\n",
    "def decode_qr(qr_image):\n",
    "  decoded_objects = decode(qr_image)\n",
    "  if not decoded_objects:\n",
    "      return False, \"\"\n",
    "  return True, decoded_objects[0].data.decode(\"utf-8\")\n",
    "\n",
    "\n",
    "def get_txt_content(file_name):\n",
    "  print(file_name)\n",
    "  with open(file_name, 'r') as file:\n",
    "    content = file.read()\n",
    "  return content"
   ]
  },
  {
   "cell_type": "code",
   "execution_count": null,
   "metadata": {
    "id": "uE2tGrWkdpaN"
   },
   "outputs": [],
   "source": [
    "def checkQr(image, txt_file_path):\n",
    "  content = get_txt_content(txt_file_path)\n",
    "\n",
    "  ok, decoded = decode_qr(image)\n",
    "  if ok:\n",
    "    return decoded == content\n",
    "  return False\n",
    "\n"
   ]
  },
  {
   "cell_type": "code",
   "execution_count": null,
   "metadata": {
    "colab": {
     "base_uri": "https://localhost:8080/"
    },
    "id": "qQqbjxY7R5yv",
    "outputId": "8d7280d9-5ecd-4d4c-e66b-d8ac2e9703da"
   },
   "outputs": [
    {
     "name": "stdout",
     "output_type": "stream",
     "text": [
      "png/.png\n",
      "Image png/.png not found\n",
      " False\n",
      "png/000004.png\n",
      "000004\n",
      "000004 False\n",
      "png/000002.png\n",
      "000002\n",
      "000002 False\n",
      "png/000000.png\n",
      "000000\n",
      "000000 False\n",
      "png/000001.png\n",
      "000001\n",
      "000001 False\n",
      "png/000003.png\n",
      "000003\n",
      "000003 False\n",
      "png/000005.png\n",
      "000005\n",
      "000005 False\n"
     ]
    }
   ],
   "source": [
    "# Get file names in /png\n",
    "import os\n",
    "files = os.listdir(\"png\")\n",
    "files = [file.split(\".\")[0] for file in files]\n",
    "\n",
    "# Set pipeline\n",
    "pipeline = Pipeline([\n",
    "    # threshold(128),\n",
    "    # grayscale\n",
    "])\n",
    "\n",
    "for file in files:\n",
    "  # Read image\n",
    "  img = cv2.imread(\"png/\" + file + \".png\")\n",
    "  if img is None:\n",
    "    print(f\"Image {file}.png not found.\")\n",
    "    continue\n",
    "\n",
    "  # Read text file\n",
    "  file_name = file.replace(\".png\", \".txt\")\n",
    "  file_name = \"txt/\" + file_name\n",
    "\n",
    "  # Apply pipeline\n",
    "  img = pipeline.run(img)\n",
    "\n",
    "  # Show result  -- TODO\n",
    "  print(file_name, checkQr(img, file_name))\n",
    "\n",
    "\n",
    "\n",
    "# pipeline = Pipeline([\n",
    "#     threshold(128),\n",
    "#     grayscale\n",
    "# ])\n",
    "# image = pipeline.run(image)\n",
    "\n",
    "\n",
    "## Show image\n",
    "# cv2_imshow(image)\n",
    "\n"
   ]
  }
 ],
 "metadata": {
  "colab": {
   "provenance": []
  },
  "kernelspec": {
   "display_name": "Python 3",
   "name": "python3"
  },
  "language_info": {
   "name": "python"
  }
 },
 "nbformat": 4,
 "nbformat_minor": 0
}
