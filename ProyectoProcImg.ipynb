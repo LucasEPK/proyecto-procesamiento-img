{
 "cells": [
  {
   "cell_type": "markdown",
   "metadata": {
    "id": "Y9HpLreuUIjn"
   },
   "source": [
    "# Proyecto procesamiento de imagenes"
   ]
  },
  {
   "cell_type": "code",
   "execution_count": 4,
   "metadata": {
    "id": "fzf_v5Y-UPSm"
   },
   "outputs": [],
   "source": [
    "import cv2\n",
    "from pyzbar.pyzbar import decode\n",
    "import matplotlib.pyplot as plt"
   ]
  },
  {
   "cell_type": "code",
   "execution_count": 5,
   "metadata": {
    "id": "BZL8aIOrQW95"
   },
   "outputs": [],
   "source": [
    "class Pipeline:\n",
    "    def __init__(self, steps):\n",
    "        self.steps = steps\n",
    "\n",
    "    def run(self, data):\n",
    "        for step in self.steps:\n",
    "            data = step(data)\n",
    "        return data\n",
    "\n",
    "def grayscale(image):\n",
    "    return cv2.cvtColor(image, cv2.COLOR_BGR2GRAY)\n",
    "\n",
    "def threshold(threshold_value=128):\n",
    "    def inner(image, threshold_value=threshold_value):\n",
    "        _, thresholded_image = cv2.threshold(image, threshold_value, 255, cv2.THRESH_BINARY)\n",
    "        return thresholded_image\n",
    "    return inner"
   ]
  },
  {
   "cell_type": "code",
   "execution_count": 14,
   "metadata": {
    "id": "KtEpjoYpQUyV"
   },
   "outputs": [],
   "source": [
    "# Decode QR codes\n",
    "def decode_qr(qr_image):\n",
    "  decoded_objects = decode(qr_image)\n",
    "  if not decoded_objects:\n",
    "      return False, \"\"\n",
    "  return True, decoded_objects[0].data.decode(\"utf-8\")\n",
    "\n",
    "\n",
    "def get_txt_content(file_name):\n",
    "  with open(file_name, 'r') as file:\n",
    "    content = file.read()\n",
    "  return content"
   ]
  },
  {
   "cell_type": "code",
   "execution_count": 15,
   "metadata": {
    "id": "uE2tGrWkdpaN"
   },
   "outputs": [],
   "source": [
    "def checkQr(image, txt_file_path):\n",
    "  content = get_txt_content(txt_file_path)\n",
    "\n",
    "  ok, decoded = decode_qr(image)\n",
    "  if ok:\n",
    "    return decoded == content\n",
    "  return False\n",
    "\n"
   ]
  },
  {
   "cell_type": "code",
   "execution_count": null,
   "metadata": {
    "colab": {
     "base_uri": "https://localhost:8080/"
    },
    "id": "qQqbjxY7R5yv",
    "outputId": "8d7280d9-5ecd-4d4c-e66b-d8ac2e9703da"
   },
   "outputs": [
    {
     "name": "stderr",
     "output_type": "stream",
     "text": [
      "WARNING: decoder/databar.c:1210: _zbar_decode_databar: Assertion \"seg->finder >= 0\" failed.\n",
      "\ti=2 f=-1(000) part=1\n",
      "WARNING: decoder/databar.c:1210: _zbar_decode_databar: Assertion \"seg->finder >= 0\" failed.\n",
      "\ti=2 f=-1(000) part=1\n",
      "WARNING: decoder/databar.c:1210: _zbar_decode_databar: Assertion \"seg->finder >= 0\" failed.\n",
      "\ti=26 f=-1(000) part=0\n",
      "WARNING: decoder/databar.c:1210: _zbar_decode_databar: Assertion \"seg->finder >= 0\" failed.\n",
      "\ti=26 f=-1(000) part=0\n",
      "WARNING: decoder/databar.c:1210: _zbar_decode_databar: Assertion \"seg->finder >= 0\" failed.\n",
      "\ti=10 f=-1(000) part=0\n",
      "WARNING: decoder/databar.c:1210: _zbar_decode_databar: Assertion \"seg->finder >= 0\" failed.\n",
      "\ti=9 f=-1(000) part=1\n",
      "WARNING: decoder/databar.c:1210: _zbar_decode_databar: Assertion \"seg->finder >= 0\" failed.\n",
      "\ti=10 f=-1(000) part=0\n",
      "WARNING: decoder/databar.c:1210: _zbar_decode_databar: Assertion \"seg->finder >= 0\" failed.\n",
      "\ti=9 f=-1(000) part=1\n"
     ]
    },
    {
     "name": "stdout",
     "output_type": "stream",
     "text": [
      "Total images: 3332\n",
      "enhanced_count: 0\n",
      "worsened_count: 0\n",
      "same_ok_count: 1840\n",
      "same_false_count: 1492\n"
     ]
    }
   ],
   "source": [
    "# Get file names in /png\n",
    "import os\n",
    "files = os.listdir(\"png\")\n",
    "files = [file.split(\".\")[0] for file in files]\n",
    "\n",
    "# Set pipeline\n",
    "pipeline = Pipeline([\n",
    "    # threshold(128),\n",
    "    # grayscale\n",
    "])\n",
    "\n",
    "# Initialize counters to compare original vs transformed \n",
    "enhanced_count = 0\n",
    "worsened_count = 0\n",
    "same_ok_count = 0\n",
    "same_false_count = 0\n",
    "\n",
    "\n",
    "for file in files:\n",
    "  # Read image\n",
    "  img = cv2.imread(\"png/\" + file + \".png\")\n",
    "  if img is None:\n",
    "    print(f\"Image {file}.png not found.\")\n",
    "    continue\n",
    "\n",
    "  # Read text file\n",
    "  file_name = \"txt/\" + file + \".txt\"\n",
    "\n",
    "  # Apply pipeline\n",
    "  img_transformed = pipeline.run(img)\n",
    "\n",
    "  # Show result of pipeline \n",
    "  ok = checkQr(img, file_name)\n",
    "  transformed_ok  = checkQr(img_transformed, file_name)\n",
    "\n",
    "  if ok:\n",
    "    if transformed_ok: same_ok_count += 1\n",
    "    else: worsened_count += 1\n",
    "  else:\n",
    "    if transformed_ok: enhanced_count += 1\n",
    "    else: same_false_count += 1\n",
    "  \n",
    "\n",
    "# Print summary\n",
    "print(f\"Total images: {len(files)}\")\n",
    "print(f\"enhanced_count: {enhanced_count}\")\n",
    "print(f\"worsened_count: {worsened_count}\")\n",
    "print(f\"same_ok_count: {same_ok_count}\")\n",
    "print(f\"same_false_count: {same_false_count}\")\n",
    "\n",
    "\n",
    "\n",
    "\n",
    "\n",
    "\n"
   ]
  },
  {
   "cell_type": "code",
   "execution_count": null,
   "metadata": {},
   "outputs": [],
   "source": [
    "def opening(image):\n",
    "    # Create a kernel for morphological operations\n",
    "    kernel = cv2.getStructuringElement(cv2.MORPH_RECT, (5, 5))\n",
    "    # Perform opening operation\n",
    "    opened_image = cv2.morphologyEx(image, cv2.MORPH_OPEN, kernel)\n",
    "    return opened_image\n",
    "\n",
    "qr_image = cv2.imread(\"png/000004.png\")\n",
    "plt.imshow(qr_image)\n",
    "plt.axis('off')\n",
    "plt.show()\n",
    "ok, decoded = decode_qr(qr_image)\n",
    "if ok:\n",
    "    print(\"Decoded QR Code:\", decoded)\n",
    "else:\n",
    "    print(\"No QR Code found in the image.\")\n",
    "qr_image = grayscale(qr_image)\n",
    "plt.imshow(qr_image, cmap='gray')\n",
    "plt.axis('off')\n",
    "plt.show()\n",
    "\n",
    "qr_image = opening(qr_image)\n",
    "plt.imshow(qr_image, cmap='gray')\n",
    "plt.axis('off')\n",
    "plt.show()\n",
    "ok, decoded = decode_qr(qr_image)\n",
    "if ok:\n",
    "    print(\"Decoded QR Code:\", decoded)\n",
    "else:\n",
    "    print(\"No QR Code found in the image.\")"
   ]
  }
 ],
 "metadata": {
  "colab": {
   "provenance": []
  },
  "kernelspec": {
   "display_name": ".venv",
   "language": "python",
   "name": "python3"
  },
  "language_info": {
   "codemirror_mode": {
    "name": "ipython",
    "version": 3
   },
   "file_extension": ".py",
   "mimetype": "text/x-python",
   "name": "python",
   "nbconvert_exporter": "python",
   "pygments_lexer": "ipython3",
   "version": "3.12.3"
  }
 },
 "nbformat": 4,
 "nbformat_minor": 0
}
